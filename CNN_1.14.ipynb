{
 "cells": [
  {
   "cell_type": "markdown",
   "metadata": {},
   "source": [
    "# Convolutional Neural Network ( C N N )\n",
    "\n",
    "# --Version --\n",
    "# Tensorflow 1.14\n",
    "# Python 3.7 \n"
   ]
  },
  {
   "cell_type": "markdown",
   "metadata": {},
   "source": [
    "\n"
   ]
  },
  {
   "cell_type": "code",
   "execution_count": null,
   "metadata": {
    "scrolled": true
   },
   "outputs": [],
   "source": [
    "import tensorflow as tf\n",
    "import random\n",
    "import matplotlib.pyplot as plt\n",
    "from tensorflow.examples.tutorials.mnist import input_data\n",
    "import numpy as np\n",
    "\n",
    "mnist = input_data.read_data_sets(\"MNIST_data/\",one_hot=True)\n",
    "print(\"\\n\",mnist,\"\\n\")\n",
    "\n",
    "print(\" Train_Data - Image : {} , Label : {}\".format(mnist.train.images.shape,mnist.train.labels.shape),\"\\n\"\n",
    "      ,\"Validation_Data - Image : {} , Label : {}\".format(mnist.validation.images.shape,mnist.validation.labels.shape),\"\\n\"\n",
    "      ,\"Test_Data - Image : {} , Label : {}\\n\".format(mnist.test.images.shape,mnist.test.labels.shape))\n",
    "\n",
    "print(\"Train_Images_Data_shape : {}\".format(mnist.train.images[0].shape))\n",
    "print(mnist.train.images[0])\n",
    "print(\"Train_Label_Data_shape : {}\".format(mnist.train.labels[0].shape))\n",
    "print(\"Train_Label_Data : {}\".format(mnist.train.labels[0]))"
   ]
  },
  {
   "cell_type": "code",
   "execution_count": null,
   "metadata": {
    "scrolled": true
   },
   "outputs": [],
   "source": [
    "## print(mnist.train.images[0])\n",
    "a=mnist.train.images[0].reshape(28,28)\n",
    "plt.imshow(a,cmap='gray')\n",
    "plt.show()"
   ]
  },
  {
   "cell_type": "code",
   "execution_count": null,
   "metadata": {},
   "outputs": [],
   "source": [
    "#Convolution\n",
    "sess=tf.InteractiveSession()\n",
    "img=mnist.train.images[0].reshape(28,28)\n",
    "img=img.reshape(-1,28,28,1)\n",
    "w1=tf.Variable(tf.random_normal([3,3,1,5],stddev=0.1))\n",
    "conv2d=tf.nn.conv2d(img,w1,strides=[1,1,1,1],padding='SAME')\n",
    "print(conv2d)\n",
    "sess.run(tf.global_variables_initializer())\n",
    "conv2d_img=conv2d.eval()\n",
    "conv2d_img=np.swapaxes(conv2d_img,0,3)\n",
    "print(conv2d_img)\n",
    "for i , one_img in enumerate(conv2d_img):\n",
    "    print(i)\n",
    "    plt.subplot(1,5,i+1),plt.imshow(one_img.reshape(28,28),cmap='gray')"
   ]
  },
  {
   "cell_type": "code",
   "execution_count": null,
   "metadata": {
    "scrolled": true
   },
   "outputs": [],
   "source": [
    "learning_rate = 0.001\n",
    "training_epochs = 15\n",
    "batch_size = 100\n",
    "\n",
    "## Build_Model\n",
    "X = tf.placeholder(tf.float32, [None, 784])\n",
    "X_img = tf.reshape(X, [-1, 28, 28, 1])\n",
    "Y = tf.placeholder(tf.float32, [None, 10])\n"
   ]
  },
  {
   "cell_type": "code",
   "execution_count": null,
   "metadata": {},
   "outputs": [],
   "source": [
    "\n",
    "W1 = tf.Variable(tf.random_normal([3, 3, 1, 32], stddev=0.01))#Filter\n",
    "\n",
    "L1 = tf.nn.conv2d(X_img, W1, strides=[1, 1, 1, 1], padding='SAME')\n",
    "L2 = tf.nn.relu(L1)\n",
    "L3 = tf.nn.max_pool(L2, ksize=[1, 2, 2, 1],strides=[1, 2, 2, 1], padding='SAME')\n"
   ]
  },
  {
   "cell_type": "code",
   "execution_count": null,
   "metadata": {},
   "outputs": [],
   "source": [
    "\n",
    "W2 = tf.Variable(tf.random_normal([3, 3, 32, 64], stddev=0.01))\n",
    "L4 = tf.nn.conv2d(L3, W2, strides=[1, 1, 1, 1], padding='SAME')\n",
    "L5 = tf.nn.relu(L4)\n",
    "L6 = tf.nn.max_pool(L5, ksize=[1, 2, 2, 1],strides=[1, 2, 2, 1], padding='SAME')\n",
    "print(L6)\n",
    "L2_flat = tf.reshape(L6, [-1, 7 * 7 * 64])\n"
   ]
  },
  {
   "cell_type": "code",
   "execution_count": null,
   "metadata": {
    "scrolled": true
   },
   "outputs": [],
   "source": [
    "\n",
    "W3 = tf.get_variable(\"W3\", shape=[7 * 7 * 64, 10],initializer=tf.contrib.layers.xavier_initializer())\n",
    "b = tf.Variable(tf.random_normal([10]))#bias\n",
    "logits = tf.matmul(L2_flat, W3) + b\n",
    "# logits = 예측값 ,--- y^ = (X * W) + b\n",
    "cost = tf.reduce_mean(tf.nn.softmax_cross_entropy_with_logits_v2(logits=logits, labels=Y))\n",
    "optimizer = tf.train.AdamOptimizer(learning_rate=learning_rate).minimize(cost)\n",
    "            #Gradient_Decent경사하강법\n",
    "sess = tf.Session()\n",
    "sess.run(tf.global_variables_initializer())\n",
    "#########################Build Model"
   ]
  },
  {
   "cell_type": "code",
   "execution_count": null,
   "metadata": {},
   "outputs": [],
   "source": [
    "print(mnist.train.num_examples)\n",
    "(batch_xs, batch_ys) = mnist.train.next_batch(batch_size)\n",
    "print(batch_xs.shape)\n",
    "print(batch_ys.shape)\n",
    "print(int(mnist.train.num_examples/batch_size))"
   ]
  },
  {
   "cell_type": "code",
   "execution_count": null,
   "metadata": {
    "scrolled": true
   },
   "outputs": [],
   "source": [
    "print('학습시작')\n",
    "for epoch in range(training_epochs): #Training_epoch=15\n",
    "    avg_cost = 0\n",
    "    total_batch = int(mnist.train.num_examples / batch_size) \n",
    "    # mnist.train.num_examples = 55000\n",
    "    # batch_size = 100\n",
    "    # total_batch = 550\n",
    "    for i in range(total_batch):\n",
    "        batch_xs,batch_ys = mnist.train.next_batch(batch_size)\n",
    "        feed_dict = {X: batch_xs, Y: batch_ys}\n",
    "        c,_ = sess.run([cost, optimizer], feed_dict=feed_dict)\n",
    "        avg_cost += c / total_batch\n",
    "    print('Epoch : {}'.format(epoch + 1), '에폭cost = {:.9f}'.format(avg_cost))\n",
    "print('학습 끝')"
   ]
  },
  {
   "cell_type": "code",
   "execution_count": null,
   "metadata": {},
   "outputs": [],
   "source": [
    "##############################테스트\n",
    "# test=tf.equal(2,1)\n",
    "# print(sess.run(test))\n",
    "# test2=tf.reduce_mean(tf.cast(test,tf.float32))\n",
    "# print(sess.run(test2))\n",
    "##############################테스트"
   ]
  },
  {
   "cell_type": "code",
   "execution_count": null,
   "metadata": {},
   "outputs": [],
   "source": [
    "correct_prediction = tf.equal(tf.argmax(logits, 1), tf.argmax(Y, 1)) #True or False\n",
    "#[[3 10 1]       if 0== 1 0 2\n",
    "# [4 5 6]        if 1==1 2 1\n",
    "# [0 8 7]]\n",
    "accuracy = tf.reduce_mean(tf.cast(correct_prediction, tf.float32)) #True면 1 False 면 0\n",
    "# print(sess.run(correct_prediction, feed_dict={X: mnist.test.images, Y: mnist.test.labels}))\n",
    "print('Accuracy:', sess.run(accuracy, feed_dict={X: mnist.test.images, Y: mnist.test.labels}))"
   ]
  },
  {
   "cell_type": "code",
   "execution_count": null,
   "metadata": {
    "scrolled": true
   },
   "outputs": [],
   "source": [
    "#Test\n",
    "for i in range(20):\n",
    "    r = random.randint(0, mnist.test.num_examples - 1)\n",
    "    print(\"Label: \", np.argmax(mnist.test.labels[r]))\n",
    "    print(\"Prediction: \", sess.run(tf.argmax(logits, 1), feed_dict={X: mnist.test.images[r:r + 1]}))\n",
    "                                                            #Input_Demention = [N,784]\n",
    "                                                            #mnist.test.images[r:r+1].shape = [1,784]\n",
    "                                                            #mnist.test.images[r].shape = [ ,784]\n",
    "    plt.imshow(mnist.test.images[r].reshape(28, 28), cmap='gray')\n",
    "    plt.show()"
   ]
  },
  {
   "cell_type": "code",
   "execution_count": null,
   "metadata": {},
   "outputs": [],
   "source": []
  }
 ],
 "metadata": {
  "kernelspec": {
   "display_name": "Python 3",
   "language": "python",
   "name": "python3"
  },
  "language_info": {
   "codemirror_mode": {
    "name": "ipython",
    "version": 3
   },
   "file_extension": ".py",
   "mimetype": "text/x-python",
   "name": "python",
   "nbconvert_exporter": "python",
   "pygments_lexer": "ipython3",
   "version": "3.7.6"
  }
 },
 "nbformat": 4,
 "nbformat_minor": 4
}
